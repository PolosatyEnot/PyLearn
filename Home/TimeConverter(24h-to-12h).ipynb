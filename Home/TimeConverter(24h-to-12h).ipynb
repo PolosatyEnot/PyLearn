{
 "cells": [
  {
   "cell_type": "code",
   "execution_count": 2,
   "metadata": {},
   "outputs": [],
   "source": [
    "def time_converter(time):\n",
    "    time = time.split(':')\n",
    "    new_time = int(time[0])\n",
    "    \n",
    "    if int(time[0]) >= 12:\n",
    "        midday = ' p.m.'\n",
    "        if int(time[0]) > 12:\n",
    "            new_time = int(time[0]) - 12\n",
    "    else:\n",
    "        midday = ' a.m.'\n",
    "        if int(time[0]) == 0:\n",
    "            new_time = int(time[0]) + 12\n",
    "        \n",
    "    new_time = str(new_time) + ':' + time[1] + midday\n",
    "    return new_time\n"
   ]
  },
  {
   "cell_type": "code",
   "execution_count": 3,
   "metadata": {},
   "outputs": [
    {
     "name": "stdout",
     "output_type": "stream",
     "text": [
      "Example:\n",
      "12:30 p.m.\n",
      "Coding complete? Click 'Check' to earn cool rewards!\n"
     ]
    }
   ],
   "source": [
    "if __name__ == '__main__':\n",
    "    print(\"Example:\")\n",
    "    print(time_converter('12:30'))\n",
    "\n",
    "    #These \"asserts\" using only for self-checking and not necessary for auto-testing\n",
    "    assert time_converter('12:30') == '12:30 p.m.'\n",
    "    assert time_converter('09:00') == '9:00 a.m.'\n",
    "    assert time_converter('23:15') == '11:15 p.m.'\n",
    "    print(\"Coding complete? Click 'Check' to earn cool rewards!\")\n"
   ]
  },
  {
   "cell_type": "code",
   "execution_count": null,
   "metadata": {},
   "outputs": [],
   "source": []
  }
 ],
 "metadata": {
  "kernelspec": {
   "display_name": "Python 3",
   "language": "python",
   "name": "python3"
  },
  "language_info": {
   "codemirror_mode": {
    "name": "ipython",
    "version": 3
   },
   "file_extension": ".py",
   "mimetype": "text/x-python",
   "name": "python",
   "nbconvert_exporter": "python",
   "pygments_lexer": "ipython3",
   "version": "3.7.2"
  }
 },
 "nbformat": 4,
 "nbformat_minor": 2
}
