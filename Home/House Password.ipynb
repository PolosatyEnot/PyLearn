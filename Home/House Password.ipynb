{
 "cells": [
  {
   "cell_type": "code",
   "execution_count": 1,
   "metadata": {},
   "outputs": [],
   "source": [
    "def checkio(data: str) -> bool:\n",
    "    chars = set(data)\n",
    "    low = False\n",
    "    up = False\n",
    "    digit = False\n",
    "    if len(data) >= 10:\n",
    "        for ch in chars:\n",
    "            if not low and ch.islower():\n",
    "                low = True\n",
    "            if not up and ch.isupper():\n",
    "                up = True\n",
    "            if not digit and ch.isdigit():\n",
    "                digit = True\n",
    "    return low and up and digit\n"
   ]
  },
  {
   "cell_type": "code",
   "execution_count": 2,
   "metadata": {},
   "outputs": [
    {
     "name": "stdout",
     "output_type": "stream",
     "text": [
      "Coding complete? Click 'Check' to review your tests and earn cool rewards!\n"
     ]
    }
   ],
   "source": [
    "#Some hints\n",
    "#Just check all conditions\n",
    "if __name__ == '__main__':\n",
    "    #These \"asserts\" using only for self-checking and not necessary for auto-testing\n",
    "    assert checkio('A1213pokl') == False, \"1st example\"\n",
    "    assert checkio('bAse730onE4') == True, \"2nd example\"\n",
    "    assert checkio('asasasasasasasaas') == False, \"3rd example\"\n",
    "    assert checkio('QWERTYqwerty') == False, \"4th example\"\n",
    "    assert checkio('123456123456') == False, \"5th example\"\n",
    "    assert checkio('QwErTy911poqqqq') == True, \"6th example\"\n",
    "    print(\"Coding complete? Click 'Check' to review your tests and earn cool rewards!\")\n"
   ]
  },
  {
   "cell_type": "code",
   "execution_count": null,
   "metadata": {},
   "outputs": [],
   "source": []
  }
 ],
 "metadata": {
  "kernelspec": {
   "display_name": "Python 3",
   "language": "python",
   "name": "python3"
  },
  "language_info": {
   "codemirror_mode": {
    "name": "ipython",
    "version": 3
   },
   "file_extension": ".py",
   "mimetype": "text/x-python",
   "name": "python",
   "nbconvert_exporter": "python",
   "pygments_lexer": "ipython3",
   "version": "3.7.2"
  }
 },
 "nbformat": 4,
 "nbformat_minor": 2
}
